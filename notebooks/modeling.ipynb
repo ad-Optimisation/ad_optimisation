{
 "cells": [
  {
   "cell_type": "code",
   "execution_count": 1,
   "metadata": {},
   "outputs": [
    {
     "name": "stderr",
     "output_type": "stream",
     "text": [
      "2022-11-05 19:55:48.829652: I tensorflow/core/platform/cpu_feature_guard.cc:193] This TensorFlow binary is optimized with oneAPI Deep Neural Network Library (oneDNN) to use the following CPU instructions in performance-critical operations:  AVX2 FMA\n",
      "To enable them in other operations, rebuild TensorFlow with the appropriate compiler flags.\n",
      "2022-11-05 19:55:48.944671: W tensorflow/stream_executor/platform/default/dso_loader.cc:64] Could not load dynamic library 'libcudart.so.11.0'; dlerror: libcudart.so.11.0: cannot open shared object file: No such file or directory; LD_LIBRARY_PATH: /home/nahom_habtemichael/project/ad_optimisation/venv/lib/python3.8/site-packages/cv2/../../lib64:\n",
      "2022-11-05 19:55:48.944690: I tensorflow/stream_executor/cuda/cudart_stub.cc:29] Ignore above cudart dlerror if you do not have a GPU set up on your machine.\n",
      "2022-11-05 19:55:48.977322: E tensorflow/stream_executor/cuda/cuda_blas.cc:2981] Unable to register cuBLAS factory: Attempting to register factory for plugin cuBLAS when one has already been registered\n",
      "2022-11-05 19:55:49.484660: W tensorflow/stream_executor/platform/default/dso_loader.cc:64] Could not load dynamic library 'libnvinfer.so.7'; dlerror: libnvinfer.so.7: cannot open shared object file: No such file or directory; LD_LIBRARY_PATH: /home/nahom_habtemichael/project/ad_optimisation/venv/lib/python3.8/site-packages/cv2/../../lib64:\n",
      "2022-11-05 19:55:49.484727: W tensorflow/stream_executor/platform/default/dso_loader.cc:64] Could not load dynamic library 'libnvinfer_plugin.so.7'; dlerror: libnvinfer_plugin.so.7: cannot open shared object file: No such file or directory; LD_LIBRARY_PATH: /home/nahom_habtemichael/project/ad_optimisation/venv/lib/python3.8/site-packages/cv2/../../lib64:\n",
      "2022-11-05 19:55:49.484733: W tensorflow/compiler/tf2tensorrt/utils/py_utils.cc:38] TF-TRT Warning: Cannot dlopen some TensorRT libraries. If you would like to use Nvidia GPU with TensorRT, please make sure the missing libraries mentioned above are installed properly.\n"
     ]
    }
   ],
   "source": [
    "#importing packages\n",
    "import numpy as np\n",
    "import pandas as pd\n",
    "import warnings\n",
    "import matplotlib.pyplot as plt\n",
    "from matplotlib.image import imread\n",
    "import cv2\n",
    "import random\n",
    "import os\n",
    "from os import listdir\n",
    "from PIL import Image\n",
    "from sklearn.preprocessing import label_binarize,  LabelBinarizer\n",
    "from keras.preprocessing import image\n",
    "from tensorflow.keras.utils import array_to_img\n",
    "from keras.optimizers import Adam\n",
    "from keras.models import Sequential\n",
    "from keras.layers import Conv2D, MaxPooling2D\n",
    "from keras.layers import Activation, Flatten, Dropout, Dense\n",
    "from sklearn.model_selection import train_test_split\n",
    "from keras.models import model_from_json\n",
    "from keras.utils import to_categorical \n",
    "from sklearn.feature_extraction.text import TfidfVectorizer\n",
    "from sklearn import preprocessing\n",
    "from sklearn.preprocessing import MinMaxScaler, Normalizer, StandardScaler, LabelEncoder\n",
    "warnings.filterwarnings(\"ignore\")"
   ]
  },
  {
   "cell_type": "code",
   "execution_count": 2,
   "metadata": {},
   "outputs": [],
   "source": [
    "clean_cta = pd.read_csv('../clean_data/clean_cta.csv')\n",
    "clean_eng = pd.read_csv('../clean_data/clean_engagement.csv')\n",
    "clean_logo = pd.read_csv('../clean_data/clean_logo.csv')\n",
    "clean_text = pd.read_csv('../clean_data/extracted_features.csv')\n",
    "perf_data = pd.read_csv('../data/performance_data.csv')\n",
    "\n"
   ]
  },
  {
   "cell_type": "code",
   "execution_count": 3,
   "metadata": {},
   "outputs": [
    {
     "data": {
      "text/plain": [
       "Assets                0\n",
       "top_left_X            0\n",
       "top_left_Y            0\n",
       "bottom_right_X        0\n",
       "top_right_Y           0\n",
       "height                0\n",
       "width                 0\n",
       "total_image_height    0\n",
       "total_image_width     0\n",
       "dtype: int64"
      ]
     },
     "execution_count": 3,
     "metadata": {},
     "output_type": "execute_result"
    }
   ],
   "source": [
    "clean_cta.isnull().sum()"
   ]
  },
  {
   "cell_type": "code",
   "execution_count": 4,
   "metadata": {},
   "outputs": [
    {
     "data": {
      "text/plain": [
       "Assets                0\n",
       "top_left_X            0\n",
       "top_left_Y            0\n",
       "bottom_right_X        0\n",
       "top_right_Y           0\n",
       "height                0\n",
       "width                 0\n",
       "total_image_height    0\n",
       "total_image_width     0\n",
       "dtype: int64"
      ]
     },
     "execution_count": 4,
     "metadata": {},
     "output_type": "execute_result"
    }
   ],
   "source": [
    "clean_eng.isnull().sum()"
   ]
  },
  {
   "cell_type": "code",
   "execution_count": 5,
   "metadata": {},
   "outputs": [
    {
     "data": {
      "text/plain": [
       "Assets                0\n",
       "top_left_X            0\n",
       "top_left_Y            0\n",
       "bottom_right_X        0\n",
       "top_right_Y           0\n",
       "height                0\n",
       "width                 0\n",
       "total_image_height    0\n",
       "total_image_width     0\n",
       "dtype: int64"
      ]
     },
     "execution_count": 5,
     "metadata": {},
     "output_type": "execute_result"
    }
   ],
   "source": [
    "clean_logo.isnull().sum()"
   ]
  },
  {
   "cell_type": "code",
   "execution_count": 6,
   "metadata": {},
   "outputs": [
    {
     "data": {
      "text/plain": [
       "Game_Id            0\n",
       "Full_Text          0\n",
       "Txt_char_lenght    0\n",
       "Txt_Word_length    0\n",
       "dtype: int64"
      ]
     },
     "execution_count": 6,
     "metadata": {},
     "output_type": "execute_result"
    }
   ],
   "source": [
    "clean_text.isnull().sum()"
   ]
  },
  {
   "cell_type": "code",
   "execution_count": 7,
   "metadata": {},
   "outputs": [
    {
     "data": {
      "text/plain": [
       "game_id         0\n",
       "preview_link    0\n",
       "ER              0\n",
       "CTR             0\n",
       "dtype: int64"
      ]
     },
     "execution_count": 7,
     "metadata": {},
     "output_type": "execute_result"
    }
   ],
   "source": [
    "perf_data.isnull().sum()"
   ]
  },
  {
   "cell_type": "code",
   "execution_count": 8,
   "metadata": {},
   "outputs": [],
   "source": [
    "clean_text.rename(columns={'Game_Id':'Assets'},inplace=True)\n",
    "perf_data.rename(columns={'game_id':'Assets'},inplace=True)"
   ]
  },
  {
   "cell_type": "code",
   "execution_count": 9,
   "metadata": {},
   "outputs": [],
   "source": [
    "perf_data.drop('preview_link',axis=1,inplace=True)"
   ]
  },
  {
   "cell_type": "code",
   "execution_count": 10,
   "metadata": {},
   "outputs": [
    {
     "name": "stdout",
     "output_type": "stream",
     "text": [
      "<class 'pandas.core.frame.DataFrame'>\n",
      "RangeIndex: 905 entries, 0 to 904\n",
      "Data columns (total 3 columns):\n",
      " #   Column  Non-Null Count  Dtype  \n",
      "---  ------  --------------  -----  \n",
      " 0   Assets  905 non-null    object \n",
      " 1   ER      905 non-null    float64\n",
      " 2   CTR     905 non-null    float64\n",
      "dtypes: float64(2), object(1)\n",
      "memory usage: 21.3+ KB\n"
     ]
    }
   ],
   "source": [
    "perf_data.info()"
   ]
  },
  {
   "cell_type": "code",
   "execution_count": 11,
   "metadata": {},
   "outputs": [],
   "source": [
    "merged_df = pd.merge(pd.merge(pd.merge(clean_cta,clean_eng,on='Assets'),clean_logo,on='Assets'),clean_text,on='Assets')"
   ]
  },
  {
   "cell_type": "code",
   "execution_count": 12,
   "metadata": {},
   "outputs": [
    {
     "name": "stdout",
     "output_type": "stream",
     "text": [
      "<class 'pandas.core.frame.DataFrame'>\n",
      "Int64Index: 546 entries, 0 to 545\n",
      "Data columns (total 28 columns):\n",
      " #   Column                Non-Null Count  Dtype  \n",
      "---  ------                --------------  -----  \n",
      " 0   Assets                546 non-null    object \n",
      " 1   top_left_X_x          546 non-null    float64\n",
      " 2   top_left_Y_x          546 non-null    float64\n",
      " 3   bottom_right_X_x      546 non-null    float64\n",
      " 4   top_right_Y_x         546 non-null    float64\n",
      " 5   height_x              546 non-null    float64\n",
      " 6   width_x               546 non-null    float64\n",
      " 7   total_image_height_x  546 non-null    float64\n",
      " 8   total_image_width_x   546 non-null    float64\n",
      " 9   top_left_X_y          546 non-null    float64\n",
      " 10  top_left_Y_y          546 non-null    float64\n",
      " 11  bottom_right_X_y      546 non-null    float64\n",
      " 12  top_right_Y_y         546 non-null    float64\n",
      " 13  height_y              546 non-null    float64\n",
      " 14  width_y               546 non-null    float64\n",
      " 15  total_image_height_y  546 non-null    float64\n",
      " 16  total_image_width_y   546 non-null    float64\n",
      " 17  top_left_X            546 non-null    float64\n",
      " 18  top_left_Y            546 non-null    float64\n",
      " 19  bottom_right_X        546 non-null    float64\n",
      " 20  top_right_Y           546 non-null    float64\n",
      " 21  height                546 non-null    float64\n",
      " 22  width                 546 non-null    float64\n",
      " 23  total_image_height    546 non-null    float64\n",
      " 24  total_image_width     546 non-null    float64\n",
      " 25  Full_Text             546 non-null    object \n",
      " 26  Txt_char_lenght       546 non-null    int64  \n",
      " 27  Txt_Word_length       546 non-null    int64  \n",
      "dtypes: float64(24), int64(2), object(2)\n",
      "memory usage: 123.7+ KB\n"
     ]
    }
   ],
   "source": [
    "merged_df.info()"
   ]
  },
  {
   "cell_type": "code",
   "execution_count": 13,
   "metadata": {},
   "outputs": [],
   "source": [
    "merged_df2 = pd.merge(merged_df,perf_data,on='Assets')"
   ]
  },
  {
   "cell_type": "code",
   "execution_count": 14,
   "metadata": {},
   "outputs": [
    {
     "name": "stdout",
     "output_type": "stream",
     "text": [
      "<class 'pandas.core.frame.DataFrame'>\n",
      "Int64Index: 546 entries, 0 to 545\n",
      "Data columns (total 30 columns):\n",
      " #   Column                Non-Null Count  Dtype  \n",
      "---  ------                --------------  -----  \n",
      " 0   Assets                546 non-null    object \n",
      " 1   top_left_X_x          546 non-null    float64\n",
      " 2   top_left_Y_x          546 non-null    float64\n",
      " 3   bottom_right_X_x      546 non-null    float64\n",
      " 4   top_right_Y_x         546 non-null    float64\n",
      " 5   height_x              546 non-null    float64\n",
      " 6   width_x               546 non-null    float64\n",
      " 7   total_image_height_x  546 non-null    float64\n",
      " 8   total_image_width_x   546 non-null    float64\n",
      " 9   top_left_X_y          546 non-null    float64\n",
      " 10  top_left_Y_y          546 non-null    float64\n",
      " 11  bottom_right_X_y      546 non-null    float64\n",
      " 12  top_right_Y_y         546 non-null    float64\n",
      " 13  height_y              546 non-null    float64\n",
      " 14  width_y               546 non-null    float64\n",
      " 15  total_image_height_y  546 non-null    float64\n",
      " 16  total_image_width_y   546 non-null    float64\n",
      " 17  top_left_X            546 non-null    float64\n",
      " 18  top_left_Y            546 non-null    float64\n",
      " 19  bottom_right_X        546 non-null    float64\n",
      " 20  top_right_Y           546 non-null    float64\n",
      " 21  height                546 non-null    float64\n",
      " 22  width                 546 non-null    float64\n",
      " 23  total_image_height    546 non-null    float64\n",
      " 24  total_image_width     546 non-null    float64\n",
      " 25  Full_Text             546 non-null    object \n",
      " 26  Txt_char_lenght       546 non-null    int64  \n",
      " 27  Txt_Word_length       546 non-null    int64  \n",
      " 28  ER                    546 non-null    float64\n",
      " 29  CTR                   546 non-null    float64\n",
      "dtypes: float64(26), int64(2), object(2)\n",
      "memory usage: 132.2+ KB\n"
     ]
    }
   ],
   "source": [
    "merged_df2.info()"
   ]
  },
  {
   "cell_type": "code",
   "execution_count": 15,
   "metadata": {},
   "outputs": [],
   "source": [
    "target = merged_df2.pop('ER')"
   ]
  },
  {
   "cell_type": "code",
   "execution_count": 16,
   "metadata": {},
   "outputs": [],
   "source": [
    "# type(target)\n",
    "merged_df2.drop('CTR',axis=1,inplace=True)"
   ]
  },
  {
   "cell_type": "code",
   "execution_count": 17,
   "metadata": {},
   "outputs": [
    {
     "name": "stdout",
     "output_type": "stream",
     "text": [
      "<class 'pandas.core.frame.DataFrame'>\n",
      "Int64Index: 546 entries, 0 to 545\n",
      "Data columns (total 28 columns):\n",
      " #   Column                Non-Null Count  Dtype  \n",
      "---  ------                --------------  -----  \n",
      " 0   Assets                546 non-null    object \n",
      " 1   top_left_X_x          546 non-null    float64\n",
      " 2   top_left_Y_x          546 non-null    float64\n",
      " 3   bottom_right_X_x      546 non-null    float64\n",
      " 4   top_right_Y_x         546 non-null    float64\n",
      " 5   height_x              546 non-null    float64\n",
      " 6   width_x               546 non-null    float64\n",
      " 7   total_image_height_x  546 non-null    float64\n",
      " 8   total_image_width_x   546 non-null    float64\n",
      " 9   top_left_X_y          546 non-null    float64\n",
      " 10  top_left_Y_y          546 non-null    float64\n",
      " 11  bottom_right_X_y      546 non-null    float64\n",
      " 12  top_right_Y_y         546 non-null    float64\n",
      " 13  height_y              546 non-null    float64\n",
      " 14  width_y               546 non-null    float64\n",
      " 15  total_image_height_y  546 non-null    float64\n",
      " 16  total_image_width_y   546 non-null    float64\n",
      " 17  top_left_X            546 non-null    float64\n",
      " 18  top_left_Y            546 non-null    float64\n",
      " 19  bottom_right_X        546 non-null    float64\n",
      " 20  top_right_Y           546 non-null    float64\n",
      " 21  height                546 non-null    float64\n",
      " 22  width                 546 non-null    float64\n",
      " 23  total_image_height    546 non-null    float64\n",
      " 24  total_image_width     546 non-null    float64\n",
      " 25  Full_Text             546 non-null    object \n",
      " 26  Txt_char_lenght       546 non-null    int64  \n",
      " 27  Txt_Word_length       546 non-null    int64  \n",
      "dtypes: float64(24), int64(2), object(2)\n",
      "memory usage: 123.7+ KB\n"
     ]
    }
   ],
   "source": [
    "merged_df2.info()"
   ]
  },
  {
   "cell_type": "code",
   "execution_count": 18,
   "metadata": {},
   "outputs": [],
   "source": [
    "df = merged_df2.copy()"
   ]
  },
  {
   "cell_type": "code",
   "execution_count": 19,
   "metadata": {},
   "outputs": [
    {
     "name": "stdout",
     "output_type": "stream",
     "text": [
      "<class 'pandas.core.frame.DataFrame'>\n",
      "Int64Index: 546 entries, 0 to 545\n",
      "Data columns (total 28 columns):\n",
      " #   Column                Non-Null Count  Dtype  \n",
      "---  ------                --------------  -----  \n",
      " 0   Assets                546 non-null    object \n",
      " 1   top_left_X_x          546 non-null    float64\n",
      " 2   top_left_Y_x          546 non-null    float64\n",
      " 3   bottom_right_X_x      546 non-null    float64\n",
      " 4   top_right_Y_x         546 non-null    float64\n",
      " 5   height_x              546 non-null    float64\n",
      " 6   width_x               546 non-null    float64\n",
      " 7   total_image_height_x  546 non-null    float64\n",
      " 8   total_image_width_x   546 non-null    float64\n",
      " 9   top_left_X_y          546 non-null    float64\n",
      " 10  top_left_Y_y          546 non-null    float64\n",
      " 11  bottom_right_X_y      546 non-null    float64\n",
      " 12  top_right_Y_y         546 non-null    float64\n",
      " 13  height_y              546 non-null    float64\n",
      " 14  width_y               546 non-null    float64\n",
      " 15  total_image_height_y  546 non-null    float64\n",
      " 16  total_image_width_y   546 non-null    float64\n",
      " 17  top_left_X            546 non-null    float64\n",
      " 18  top_left_Y            546 non-null    float64\n",
      " 19  bottom_right_X        546 non-null    float64\n",
      " 20  top_right_Y           546 non-null    float64\n",
      " 21  height                546 non-null    float64\n",
      " 22  width                 546 non-null    float64\n",
      " 23  total_image_height    546 non-null    float64\n",
      " 24  total_image_width     546 non-null    float64\n",
      " 25  Full_Text             546 non-null    object \n",
      " 26  Txt_char_lenght       546 non-null    int64  \n",
      " 27  Txt_Word_length       546 non-null    int64  \n",
      "dtypes: float64(24), int64(2), object(2)\n",
      "memory usage: 123.7+ KB\n"
     ]
    }
   ],
   "source": [
    "df.info()"
   ]
  },
  {
   "cell_type": "code",
   "execution_count": 20,
   "metadata": {},
   "outputs": [
    {
     "data": {
      "text/plain": [
       "Assets                   object\n",
       "top_left_X_x            float64\n",
       "top_left_Y_x            float64\n",
       "bottom_right_X_x        float64\n",
       "top_right_Y_x           float64\n",
       "height_x                float64\n",
       "width_x                 float64\n",
       "total_image_height_x    float64\n",
       "total_image_width_x     float64\n",
       "top_left_X_y            float64\n",
       "top_left_Y_y            float64\n",
       "bottom_right_X_y        float64\n",
       "top_right_Y_y           float64\n",
       "height_y                float64\n",
       "width_y                 float64\n",
       "total_image_height_y    float64\n",
       "total_image_width_y     float64\n",
       "top_left_X              float64\n",
       "top_left_Y              float64\n",
       "bottom_right_X          float64\n",
       "top_right_Y             float64\n",
       "height                  float64\n",
       "width                   float64\n",
       "total_image_height      float64\n",
       "total_image_width       float64\n",
       "Full_Text                object\n",
       "Txt_char_lenght           int64\n",
       "Txt_Word_length           int64\n",
       "dtype: object"
      ]
     },
     "execution_count": 20,
     "metadata": {},
     "output_type": "execute_result"
    }
   ],
   "source": [
    "df.dtypes"
   ]
  },
  {
   "cell_type": "code",
   "execution_count": 21,
   "metadata": {},
   "outputs": [],
   "source": [
    "df.drop(['Full_Text','Assets'],axis=1,inplace=True)"
   ]
  },
  {
   "cell_type": "code",
   "execution_count": 22,
   "metadata": {},
   "outputs": [
    {
     "data": {
      "text/plain": [
       "top_left_X_x            float64\n",
       "top_left_Y_x            float64\n",
       "bottom_right_X_x        float64\n",
       "top_right_Y_x           float64\n",
       "height_x                float64\n",
       "width_x                 float64\n",
       "total_image_height_x    float64\n",
       "total_image_width_x     float64\n",
       "top_left_X_y            float64\n",
       "top_left_Y_y            float64\n",
       "bottom_right_X_y        float64\n",
       "top_right_Y_y           float64\n",
       "height_y                float64\n",
       "width_y                 float64\n",
       "total_image_height_y    float64\n",
       "total_image_width_y     float64\n",
       "top_left_X              float64\n",
       "top_left_Y              float64\n",
       "bottom_right_X          float64\n",
       "top_right_Y             float64\n",
       "height                  float64\n",
       "width                   float64\n",
       "total_image_height      float64\n",
       "total_image_width       float64\n",
       "Txt_char_lenght           int64\n",
       "Txt_Word_length           int64\n",
       "dtype: object"
      ]
     },
     "execution_count": 22,
     "metadata": {},
     "output_type": "execute_result"
    }
   ],
   "source": [
    "df.dtypes"
   ]
  },
  {
   "cell_type": "code",
   "execution_count": 23,
   "metadata": {},
   "outputs": [],
   "source": [
    "# Extract the training and test data\n",
    "data = df.values\n",
    "X = data[:, 1:]  # all rows, no label\n",
    "y = target  # all rows, label only\n",
    "X_train, X_test, y_train, y_test = train_test_split(X, y, test_size=0.1, random_state=0)"
   ]
  },
  {
   "cell_type": "code",
   "execution_count": 24,
   "metadata": {},
   "outputs": [],
   "source": [
    "# Scale the data to be between -1 and 1\n",
    "scaler = StandardScaler()\n",
    "scaler.fit(X_train)\n",
    "X_train = scaler.transform(X_train)\n",
    "X_test = scaler.transform(X_test)"
   ]
  },
  {
   "cell_type": "code",
   "execution_count": 25,
   "metadata": {},
   "outputs": [],
   "source": [
    "# Establish model\n",
    "from sklearn.ensemble import RandomForestRegressor\n",
    "model = RandomForestRegressor(n_jobs=-1)"
   ]
  },
  {
   "cell_type": "code",
   "execution_count": 26,
   "metadata": {},
   "outputs": [
    {
     "data": {
      "text/plain": [
       "[<matplotlib.lines.Line2D at 0x7efca814fd90>]"
      ]
     },
     "execution_count": 26,
     "metadata": {},
     "output_type": "execute_result"
    },
    {
     "data": {
      "image/png": "[encoded data removed]",
      "text/plain": [
       "<Figure size 640x480 with 1 Axes>"
      ]
     },
     "metadata": {},
     "output_type": "display_data"
    }
   ],
   "source": [
    "# Try different numbers of n_estimators \n",
    "estimators = np.arange(10, 200, 10)\n",
    "scores = []\n",
    "for n in estimators:\n",
    "    model.set_params(n_estimators=n)\n",
    "    model.fit(X_train, y_train)\n",
    "    scores.append(model.score(X_test, y_test))\n",
    "plt.title(\"Effect of n_estimators\")\n",
    "plt.xlabel(\"n_estimator\")\n",
    "plt.ylabel(\"score\")\n",
    "plt.plot(estimators, scores)"
   ]
  },
  {
   "cell_type": "code",
   "execution_count": 27,
   "metadata": {},
   "outputs": [
    {
     "data": {
      "text/plain": [
       "[0.31050940421738715,\n",
       " 0.3438451534440541,\n",
       " 0.3165902374447471,\n",
       " 0.295732403477839,\n",
       " 0.2797357213232806,\n",
       " 0.3217969978019749,\n",
       " 0.3548128336394665,\n",
       " 0.3338856946324268,\n",
       " 0.31797332660815425,\n",
       " 0.3057983888532272,\n",
       " 0.35990870860860613,\n",
       " 0.35578124470470973,\n",
       " 0.35830609660333956,\n",
       " 0.40264936878552104,\n",
       " 0.3516197873408332,\n",
       " 0.3260857351117088,\n",
       " 0.29527900320503986,\n",
       " 0.34017294409723753,\n",
       " 0.3279536030231537]"
      ]
     },
     "execution_count": 27,
     "metadata": {},
     "output_type": "execute_result"
    }
   ],
   "source": [
    "scores"
   ]
  },
  {
   "cell_type": "code",
   "execution_count": null,
   "metadata": {},
   "outputs": [],
   "source": []
  }
 ],
 "metadata": {
  "kernelspec": {
   "display_name": "Python 3.8.10 ('venv': venv)",
   "language": "python",
   "name": "python3"
  },
  "language_info": {
   "codemirror_mode": {
    "name": "ipython",
    "version": 3
   },
   "file_extension": ".py",
   "mimetype": "text/x-python",
   "name": "python",
   "nbconvert_exporter": "python",
   "pygments_lexer": "ipython3",
   "version": "3.8.10"
  },
  "orig_nbformat": 4,
  "vscode": {
   "interpreter": {
    "hash": "aeee4e197d2a8de63b4655742b5304ff061a1568dcf28ad00cb77f318a8df61e"
   }
  }
 },
 "nbformat": 4,
 "nbformat_minor": 2
}
