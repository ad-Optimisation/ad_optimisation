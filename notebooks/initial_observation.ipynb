{
 "cells": [
  {
   "cell_type": "code",
   "execution_count": 1,
   "metadata": {},
   "outputs": [],
   "source": [
    "import sys\n",
    "import pandas as pd\n",
    "import matplotlib"
   ]
  },
  {
   "cell_type": "code",
   "execution_count": 2,
   "metadata": {},
   "outputs": [],
   "source": [
    "sys.path.append('../scripts/')\n",
    "\n",
    "import defaults as defs\n",
    "# import dataCleaner as dc\n",
    "# import dataVisualizer as dv\n",
    "# cleaner = dc.dataCleaner('initial observation')\n",
    "# visualizer = dv.dataVisualizer('initial observation')"
   ]
  },
  {
   "cell_type": "code",
   "execution_count": 3,
   "metadata": {},
   "outputs": [],
   "source": [
    "df = pd.read_csv('../observations/structure.csv')"
   ]
  },
  {
   "cell_type": "code",
   "execution_count": 4,
   "metadata": {},
   "outputs": [
    {
     "data": {
      "text/html": [
       "<div>\n",
       "<style scoped>\n",
       "    .dataframe tbody tr th:only-of-type {\n",
       "        vertical-align: middle;\n",
       "    }\n",
       "\n",
       "    .dataframe tbody tr th {\n",
       "        vertical-align: top;\n",
       "    }\n",
       "\n",
       "    .dataframe thead th {\n",
       "        text-align: right;\n",
       "    }\n",
       "</style>\n",
       "<table border=\"1\" class=\"dataframe\">\n",
       "  <thead>\n",
       "    <tr style=\"text-align: right;\">\n",
       "      <th></th>\n",
       "      <th>Assets</th>\n",
       "      <th>number_of_files</th>\n",
       "      <th>all_files</th>\n",
       "      <th>concat</th>\n",
       "    </tr>\n",
       "  </thead>\n",
       "  <tbody>\n",
       "    <tr>\n",
       "      <th>0</th>\n",
       "      <td>ed3071a667a11cc56e88ae0489bfe6aa</td>\n",
       "      <td>28</td>\n",
       "      <td>['video.mp4', 'fs-click-endframe.png', 'rev-vi...</td>\n",
       "      <td>video.mp4 fs-click-endframe.png rev-video-cta-...</td>\n",
       "    </tr>\n",
       "    <tr>\n",
       "      <th>1</th>\n",
       "      <td>4799763419d621cd41e7fb8abbcdd45d</td>\n",
       "      <td>17</td>\n",
       "      <td>['thumbnail.jpg', 'landing_2.jpg', 'video.mp4'...</td>\n",
       "      <td>thumbnail.jpg landing_2.jpg video.mp4 MPU-clic...</td>\n",
       "    </tr>\n",
       "    <tr>\n",
       "      <th>2</th>\n",
       "      <td>bf1f7af46eec0e92939a8b3ba51cbacd</td>\n",
       "      <td>46</td>\n",
       "      <td>['f2-bg.png', 'f3-cta-rev-4.png', 'Line 1.png'...</td>\n",
       "      <td>f2-bg.png f3-cta-rev-4.png Line 1.png logo.png...</td>\n",
       "    </tr>\n",
       "    <tr>\n",
       "      <th>3</th>\n",
       "      <td>e68e20f592457b875ce29757ab855dfe</td>\n",
       "      <td>15</td>\n",
       "      <td>['endtext.png', 'thumbnail.jpg', 'landing_2.jp...</td>\n",
       "      <td>endtext.png thumbnail.jpg landing_2.jpg endfra...</td>\n",
       "    </tr>\n",
       "    <tr>\n",
       "      <th>4</th>\n",
       "      <td>6a8e741867d4f893afad015b77b52c39</td>\n",
       "      <td>16</td>\n",
       "      <td>['landing_2.jpg', 'video.mp4', 'cta.png', 'end...</td>\n",
       "      <td>landing_2.jpg video.mp4 cta.png end-1.jpg thum...</td>\n",
       "    </tr>\n",
       "    <tr>\n",
       "      <th>5</th>\n",
       "      <td>65299151bf4cbd1825d28e4a43d113ac</td>\n",
       "      <td>6</td>\n",
       "      <td>['video.mp4', 'MPU-swipe-layer2.png', 'engagem...</td>\n",
       "      <td>video.mp4 MPU-swipe-layer2.png engagement_anim...</td>\n",
       "    </tr>\n",
       "    <tr>\n",
       "      <th>6</th>\n",
       "      <td>42c5b4b367187c29ac8fdd78c70837d6</td>\n",
       "      <td>24</td>\n",
       "      <td>['logo.png', 'arrowdown.png', 'star24.png', 's...</td>\n",
       "      <td>logo.png arrowdown.png star24.png star33e.png ...</td>\n",
       "    </tr>\n",
       "  </tbody>\n",
       "</table>\n",
       "</div>"
      ],
      "text/plain": [
       "                             Assets  number_of_files  \\\n",
       "0  ed3071a667a11cc56e88ae0489bfe6aa               28   \n",
       "1  4799763419d621cd41e7fb8abbcdd45d               17   \n",
       "2  bf1f7af46eec0e92939a8b3ba51cbacd               46   \n",
       "3  e68e20f592457b875ce29757ab855dfe               15   \n",
       "4  6a8e741867d4f893afad015b77b52c39               16   \n",
       "5  65299151bf4cbd1825d28e4a43d113ac                6   \n",
       "6  42c5b4b367187c29ac8fdd78c70837d6               24   \n",
       "\n",
       "                                           all_files  \\\n",
       "0  ['video.mp4', 'fs-click-endframe.png', 'rev-vi...   \n",
       "1  ['thumbnail.jpg', 'landing_2.jpg', 'video.mp4'...   \n",
       "2  ['f2-bg.png', 'f3-cta-rev-4.png', 'Line 1.png'...   \n",
       "3  ['endtext.png', 'thumbnail.jpg', 'landing_2.jp...   \n",
       "4  ['landing_2.jpg', 'video.mp4', 'cta.png', 'end...   \n",
       "5  ['video.mp4', 'MPU-swipe-layer2.png', 'engagem...   \n",
       "6  ['logo.png', 'arrowdown.png', 'star24.png', 's...   \n",
       "\n",
       "                                              concat  \n",
       "0  video.mp4 fs-click-endframe.png rev-video-cta-...  \n",
       "1  thumbnail.jpg landing_2.jpg video.mp4 MPU-clic...  \n",
       "2  f2-bg.png f3-cta-rev-4.png Line 1.png logo.png...  \n",
       "3  endtext.png thumbnail.jpg landing_2.jpg endfra...  \n",
       "4  landing_2.jpg video.mp4 cta.png end-1.jpg thum...  \n",
       "5  video.mp4 MPU-swipe-layer2.png engagement_anim...  \n",
       "6  logo.png arrowdown.png star24.png star33e.png ...  "
      ]
     },
     "execution_count": 4,
     "metadata": {},
     "output_type": "execute_result"
    }
   ],
   "source": [
    "df[:7]"
   ]
  },
  {
   "attachments": {},
   "cell_type": "markdown",
   "metadata": {},
   "source": [
    "* Varying file numbers observed"
   ]
  },
  {
   "cell_type": "code",
   "execution_count": 5,
   "metadata": {},
   "outputs": [
    {
     "name": "stdout",
     "output_type": "stream",
     "text": [
      "0 175 18.6939226519337\n"
     ]
    }
   ],
   "source": [
    "print(df['number_of_files'].min(), df['number_of_files'].max(), df['number_of_files'].mean())"
   ]
  },
  {
   "attachments": {},
   "cell_type": "markdown",
   "metadata": {},
   "source": [
    "* Number of files range between 0 and 175, with the average being around 19"
   ]
  },
  {
   "cell_type": "code",
   "execution_count": 6,
   "metadata": {},
   "outputs": [
    {
     "data": {
      "text/plain": [
       "<AxesSubplot:>"
      ]
     },
     "execution_count": 6,
     "metadata": {},
     "output_type": "execute_result"
    },
    {
     "data": {
      "image/png": "[encoded data removed]",
      "text/plain": [
       "<Figure size 432x288 with 1 Axes>"
      ]
     },
     "metadata": {
      "needs_background": "light"
     },
     "output_type": "display_data"
    }
   ],
   "source": [
    "df['number_of_files'].value_counts()[:50].plot(kind='barh')"
   ]
  }
 ],
 "metadata": {
  "kernelspec": {
   "display_name": "Python 3.8.10 64-bit",
   "language": "python",
   "name": "python3"
  },
  "language_info": {
   "codemirror_mode": {
    "name": "ipython",
    "version": 3
   },
   "file_extension": ".py",
   "mimetype": "text/x-python",
   "name": "python",
   "nbconvert_exporter": "python",
   "pygments_lexer": "ipython3",
   "version": "3.10.6"
  },
  "orig_nbformat": 4,
  "vscode": {
   "interpreter": {
    "hash": "916dbcbb3f70747c44a77c7bcd40155683ae19c65e1c03b4aa3499c5328201f1"
   }
  }
 },
 "nbformat": 4,
 "nbformat_minor": 2
}
